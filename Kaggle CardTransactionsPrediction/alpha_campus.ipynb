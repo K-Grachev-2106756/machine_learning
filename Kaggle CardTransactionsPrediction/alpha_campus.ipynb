{
  "cells": [
    {
      "cell_type": "markdown",
      "id": "d1329e49",
      "metadata": {
        "id": "d1329e49",
        "papermill": {
          "duration": 0.029739,
          "end_time": "2022-04-29T11:28:37.621362",
          "exception": false,
          "start_time": "2022-04-29T11:28:37.591623",
          "status": "completed"
        },
        "tags": []
      },
      "source": [
        "## Библиотеки"
      ]
    },
    {
      "cell_type": "code",
      "execution_count": 8,
      "id": "6be49654",
      "metadata": {
        "execution": {
          "iopub.execute_input": "2022-04-29T11:28:37.679971Z",
          "iopub.status.busy": "2022-04-29T11:28:37.679627Z",
          "iopub.status.idle": "2022-04-29T11:28:37.689378Z",
          "shell.execute_reply": "2022-04-29T11:28:37.688956Z"
        },
        "id": "6be49654",
        "papermill": {
          "duration": 0.041016,
          "end_time": "2022-04-29T11:28:37.691385",
          "exception": false,
          "start_time": "2022-04-29T11:28:37.650369",
          "status": "completed"
        },
        "tags": []
      },
      "outputs": [],
      "source": [
        "import numpy as np\n",
        "import pandas as pd\n",
        "import random\n",
        "import matplotlib.pyplot as plt\n",
        "from collections import Counter\n",
        "\n",
        "import warnings\n",
        "warnings.filterwarnings(\"ignore\")"
      ]
    },
    {
      "cell_type": "markdown",
      "id": "7d386198",
      "metadata": {
        "id": "7d386198",
        "papermill": {
          "duration": 0.028357,
          "end_time": "2022-04-29T11:28:37.748630",
          "exception": false,
          "start_time": "2022-04-29T11:28:37.720273",
          "status": "completed"
        },
        "tags": []
      },
      "source": [
        "## Функции"
      ]
    },
    {
      "cell_type": "code",
      "execution_count": 9,
      "id": "7c302d63",
      "metadata": {
        "execution": {
          "iopub.execute_input": "2022-04-29T11:28:37.805683Z",
          "iopub.status.busy": "2022-04-29T11:28:37.805234Z",
          "iopub.status.idle": "2022-04-29T11:28:37.810847Z",
          "shell.execute_reply": "2022-04-29T11:28:37.810357Z"
        },
        "id": "7c302d63",
        "papermill": {
          "duration": 0.035738,
          "end_time": "2022-04-29T11:28:37.812309",
          "exception": false,
          "start_time": "2022-04-29T11:28:37.776571",
          "status": "completed"
        },
        "tags": []
      },
      "outputs": [],
      "source": [
        "# https://github.com/benhamner/Metrics/blob/master/Python/ml_metrics/average_precision.py\n",
        "def apk(actual, predicted, k=10):\n",
        "    if len(predicted) > k:\n",
        "        predicted = predicted[:k]\n",
        "\n",
        "    score = 0.0\n",
        "    num_hits = 0.0\n",
        "\n",
        "    for i, p in enumerate(predicted):\n",
        "        if p in actual and p not in predicted[:i]:\n",
        "            num_hits += 1.0\n",
        "            score += num_hits / (i+1.0)\n",
        "\n",
        "    if not actual:\n",
        "        return 0.0\n",
        "\n",
        "    return score / min(len(actual), k)\n",
        "\n",
        "def mapk(actual, predicted, k=10):\n",
        "    return np.mean([apk(a, p, k) for a, p in zip(actual, predicted)])\n",
        "\n",
        "def make_csv(submission, name):\n",
        "    submission = pd.DataFrame({'Id': df_test['Id'], 'Predicted': submission})\n",
        "    submission['Predicted'] = submission.Predicted.astype(str).str.replace(',', '')\n",
        "    submission.to_csv(f'{name}.csv', index=False)"
      ]
    },
    {
      "cell_type": "markdown",
      "id": "40450b3e",
      "metadata": {
        "id": "40450b3e",
        "papermill": {
          "duration": 0.027708,
          "end_time": "2022-04-29T11:28:37.868029",
          "exception": false,
          "start_time": "2022-04-29T11:28:37.840321",
          "status": "completed"
        },
        "tags": []
      },
      "source": [
        "## Получение данных"
      ]
    },
    {
      "cell_type": "code",
      "execution_count": 10,
      "id": "71188d58",
      "metadata": {
        "execution": {
          "iopub.execute_input": "2022-04-29T11:28:37.924512Z",
          "iopub.status.busy": "2022-04-29T11:28:37.924288Z",
          "iopub.status.idle": "2022-04-29T11:28:38.665074Z",
          "shell.execute_reply": "2022-04-29T11:28:38.664288Z"
        },
        "id": "71188d58",
        "papermill": {
          "duration": 0.771348,
          "end_time": "2022-04-29T11:28:38.667125",
          "exception": false,
          "start_time": "2022-04-29T11:28:37.895777",
          "status": "completed"
        },
        "tags": []
      },
      "outputs": [],
      "source": [
        "## df_train = pd.read_csv('/kaggle/input/alfabankchallengedata/df_train.csv', sep=';')\n",
        "## df_test = pd.read_csv('/kaggle/input/alfabankchallengedata/df_test.csv', sep=';')\n",
        "df_train = pd.read_csv('./df_train.csv', sep=';')\n",
        "df_test = pd.read_csv('./df_test.csv', sep=';')"
      ]
    },
    {
      "cell_type": "code",
      "execution_count": 11,
      "id": "47e5a7c7",
      "metadata": {
        "execution": {
          "iopub.execute_input": "2022-04-29T11:28:38.726485Z",
          "iopub.status.busy": "2022-04-29T11:28:38.726243Z",
          "iopub.status.idle": "2022-04-29T11:28:40.492014Z",
          "shell.execute_reply": "2022-04-29T11:28:40.491327Z"
        },
        "id": "47e5a7c7",
        "papermill": {
          "duration": 1.797329,
          "end_time": "2022-04-29T11:28:40.494139",
          "exception": false,
          "start_time": "2022-04-29T11:28:38.696810",
          "status": "completed"
        },
        "tags": []
      },
      "outputs": [],
      "source": [
        "df_train['Data'] = df_train.Data.apply(lambda s: list(map(int, s.split(','))))\n",
        "df_train['Target'] = df_train.Target.apply(lambda s: list(map(int, s.split(','))))\n",
        "df_test['Data'] = df_test.Data.apply(lambda s: list(map(int, s.split(','))))"
      ]
    },
    {
      "cell_type": "code",
      "execution_count": 12,
      "id": "d471a6c6",
      "metadata": {
        "colab": {
          "base_uri": "https://localhost:8080/",
          "height": 206
        },
        "execution": {
          "iopub.execute_input": "2022-04-29T11:28:40.552109Z",
          "iopub.status.busy": "2022-04-29T11:28:40.551843Z",
          "iopub.status.idle": "2022-04-29T11:28:40.575862Z",
          "shell.execute_reply": "2022-04-29T11:28:40.575430Z"
        },
        "id": "d471a6c6",
        "outputId": "af86ec0c-c398-488f-8fad-38e4b04b954f",
        "papermill": {
          "duration": 0.054664,
          "end_time": "2022-04-29T11:28:40.577565",
          "exception": false,
          "start_time": "2022-04-29T11:28:40.522901",
          "status": "completed"
        },
        "tags": []
      },
      "outputs": [
        {
          "data": {
            "text/html": [
              "\n",
              "  <div id=\"df-0c2cfe3c-a179-4445-8785-43a6b7678d05\" class=\"colab-df-container\">\n",
              "    <div>\n",
              "<style scoped>\n",
              "    .dataframe tbody tr th:only-of-type {\n",
              "        vertical-align: middle;\n",
              "    }\n",
              "\n",
              "    .dataframe tbody tr th {\n",
              "        vertical-align: top;\n",
              "    }\n",
              "\n",
              "    .dataframe thead th {\n",
              "        text-align: right;\n",
              "    }\n",
              "</style>\n",
              "<table border=\"1\" class=\"dataframe\">\n",
              "  <thead>\n",
              "    <tr style=\"text-align: right;\">\n",
              "      <th></th>\n",
              "      <th>Id</th>\n",
              "      <th>Data</th>\n",
              "      <th>Target</th>\n",
              "    </tr>\n",
              "  </thead>\n",
              "  <tbody>\n",
              "    <tr>\n",
              "      <th>0</th>\n",
              "      <td>0</td>\n",
              "      <td>[4814, 4814, 6010, 6011, 4814, 6011, 6011, 481...</td>\n",
              "      <td>[4814, 4814, 4814, 4814, 5411, 4814, 4814, 481...</td>\n",
              "    </tr>\n",
              "    <tr>\n",
              "      <th>1</th>\n",
              "      <td>1</td>\n",
              "      <td>[6011, 6011, 6011, 6011, 6011, 6011, 6011, 481...</td>\n",
              "      <td>[4814, 6011, 4814, 6011, 4814, 4814, 6011, 481...</td>\n",
              "    </tr>\n",
              "    <tr>\n",
              "      <th>2</th>\n",
              "      <td>2</td>\n",
              "      <td>[8021, 6011, 6011, 6010, 4829, 4814, 6011, 601...</td>\n",
              "      <td>[6011, 6011, 6010, 4829, 4829, 6010, 6011, 601...</td>\n",
              "    </tr>\n",
              "    <tr>\n",
              "      <th>3</th>\n",
              "      <td>3</td>\n",
              "      <td>[4814, 6011, 4814, 4814, 4814, 6011, 6011, 569...</td>\n",
              "      <td>[6011, 6011, 6010, 6011, 6011, 4814, 4814, 601...</td>\n",
              "    </tr>\n",
              "    <tr>\n",
              "      <th>4</th>\n",
              "      <td>4</td>\n",
              "      <td>[4814, 4814, 4814, 4814, 4814, 4814, 5946, 481...</td>\n",
              "      <td>[5499, 6011, 4814, 4829, 5200, 5411, 5499, 591...</td>\n",
              "    </tr>\n",
              "  </tbody>\n",
              "</table>\n",
              "</div>\n",
              "    <div class=\"colab-df-buttons\">\n",
              "\n",
              "  <div class=\"colab-df-container\">\n",
              "    <button class=\"colab-df-convert\" onclick=\"convertToInteractive('df-0c2cfe3c-a179-4445-8785-43a6b7678d05')\"\n",
              "            title=\"Convert this dataframe to an interactive table.\"\n",
              "            style=\"display:none;\">\n",
              "\n",
              "  <svg xmlns=\"http://www.w3.org/2000/svg\" height=\"24px\" viewBox=\"0 -960 960 960\">\n",
              "    <path d=\"M120-120v-720h720v720H120Zm60-500h600v-160H180v160Zm220 220h160v-160H400v160Zm0 220h160v-160H400v160ZM180-400h160v-160H180v160Zm440 0h160v-160H620v160ZM180-180h160v-160H180v160Zm440 0h160v-160H620v160Z\"/>\n",
              "  </svg>\n",
              "    </button>\n",
              "\n",
              "  <style>\n",
              "    .colab-df-container {\n",
              "      display:flex;\n",
              "      gap: 12px;\n",
              "    }\n",
              "\n",
              "    .colab-df-convert {\n",
              "      background-color: #E8F0FE;\n",
              "      border: none;\n",
              "      border-radius: 50%;\n",
              "      cursor: pointer;\n",
              "      display: none;\n",
              "      fill: #1967D2;\n",
              "      height: 32px;\n",
              "      padding: 0 0 0 0;\n",
              "      width: 32px;\n",
              "    }\n",
              "\n",
              "    .colab-df-convert:hover {\n",
              "      background-color: #E2EBFA;\n",
              "      box-shadow: 0px 1px 2px rgba(60, 64, 67, 0.3), 0px 1px 3px 1px rgba(60, 64, 67, 0.15);\n",
              "      fill: #174EA6;\n",
              "    }\n",
              "\n",
              "    .colab-df-buttons div {\n",
              "      margin-bottom: 4px;\n",
              "    }\n",
              "\n",
              "    [theme=dark] .colab-df-convert {\n",
              "      background-color: #3B4455;\n",
              "      fill: #D2E3FC;\n",
              "    }\n",
              "\n",
              "    [theme=dark] .colab-df-convert:hover {\n",
              "      background-color: #434B5C;\n",
              "      box-shadow: 0px 1px 3px 1px rgba(0, 0, 0, 0.15);\n",
              "      filter: drop-shadow(0px 1px 2px rgba(0, 0, 0, 0.3));\n",
              "      fill: #FFFFFF;\n",
              "    }\n",
              "  </style>\n",
              "\n",
              "    <script>\n",
              "      const buttonEl =\n",
              "        document.querySelector('#df-0c2cfe3c-a179-4445-8785-43a6b7678d05 button.colab-df-convert');\n",
              "      buttonEl.style.display =\n",
              "        google.colab.kernel.accessAllowed ? 'block' : 'none';\n",
              "\n",
              "      async function convertToInteractive(key) {\n",
              "        const element = document.querySelector('#df-0c2cfe3c-a179-4445-8785-43a6b7678d05');\n",
              "        const dataTable =\n",
              "          await google.colab.kernel.invokeFunction('convertToInteractive',\n",
              "                                                    [key], {});\n",
              "        if (!dataTable) return;\n",
              "\n",
              "        const docLinkHtml = 'Like what you see? Visit the ' +\n",
              "          '<a target=\"_blank\" href=https://colab.research.google.com/notebooks/data_table.ipynb>data table notebook</a>'\n",
              "          + ' to learn more about interactive tables.';\n",
              "        element.innerHTML = '';\n",
              "        dataTable['output_type'] = 'display_data';\n",
              "        await google.colab.output.renderOutput(dataTable, element);\n",
              "        const docLink = document.createElement('div');\n",
              "        docLink.innerHTML = docLinkHtml;\n",
              "        element.appendChild(docLink);\n",
              "      }\n",
              "    </script>\n",
              "  </div>\n",
              "\n",
              "\n",
              "<div id=\"df-c90294d7-b35b-4a06-81a9-fbc961895f4d\">\n",
              "  <button class=\"colab-df-quickchart\" onclick=\"quickchart('df-c90294d7-b35b-4a06-81a9-fbc961895f4d')\"\n",
              "            title=\"Suggest charts.\"\n",
              "            style=\"display:none;\">\n",
              "\n",
              "<svg xmlns=\"http://www.w3.org/2000/svg\" height=\"24px\"viewBox=\"0 0 24 24\"\n",
              "     width=\"24px\">\n",
              "    <g>\n",
              "        <path d=\"M19 3H5c-1.1 0-2 .9-2 2v14c0 1.1.9 2 2 2h14c1.1 0 2-.9 2-2V5c0-1.1-.9-2-2-2zM9 17H7v-7h2v7zm4 0h-2V7h2v10zm4 0h-2v-4h2v4z\"/>\n",
              "    </g>\n",
              "</svg>\n",
              "  </button>\n",
              "\n",
              "<style>\n",
              "  .colab-df-quickchart {\n",
              "      --bg-color: #E8F0FE;\n",
              "      --fill-color: #1967D2;\n",
              "      --hover-bg-color: #E2EBFA;\n",
              "      --hover-fill-color: #174EA6;\n",
              "      --disabled-fill-color: #AAA;\n",
              "      --disabled-bg-color: #DDD;\n",
              "  }\n",
              "\n",
              "  [theme=dark] .colab-df-quickchart {\n",
              "      --bg-color: #3B4455;\n",
              "      --fill-color: #D2E3FC;\n",
              "      --hover-bg-color: #434B5C;\n",
              "      --hover-fill-color: #FFFFFF;\n",
              "      --disabled-bg-color: #3B4455;\n",
              "      --disabled-fill-color: #666;\n",
              "  }\n",
              "\n",
              "  .colab-df-quickchart {\n",
              "    background-color: var(--bg-color);\n",
              "    border: none;\n",
              "    border-radius: 50%;\n",
              "    cursor: pointer;\n",
              "    display: none;\n",
              "    fill: var(--fill-color);\n",
              "    height: 32px;\n",
              "    padding: 0;\n",
              "    width: 32px;\n",
              "  }\n",
              "\n",
              "  .colab-df-quickchart:hover {\n",
              "    background-color: var(--hover-bg-color);\n",
              "    box-shadow: 0 1px 2px rgba(60, 64, 67, 0.3), 0 1px 3px 1px rgba(60, 64, 67, 0.15);\n",
              "    fill: var(--button-hover-fill-color);\n",
              "  }\n",
              "\n",
              "  .colab-df-quickchart-complete:disabled,\n",
              "  .colab-df-quickchart-complete:disabled:hover {\n",
              "    background-color: var(--disabled-bg-color);\n",
              "    fill: var(--disabled-fill-color);\n",
              "    box-shadow: none;\n",
              "  }\n",
              "\n",
              "  .colab-df-spinner {\n",
              "    border: 2px solid var(--fill-color);\n",
              "    border-color: transparent;\n",
              "    border-bottom-color: var(--fill-color);\n",
              "    animation:\n",
              "      spin 1s steps(1) infinite;\n",
              "  }\n",
              "\n",
              "  @keyframes spin {\n",
              "    0% {\n",
              "      border-color: transparent;\n",
              "      border-bottom-color: var(--fill-color);\n",
              "      border-left-color: var(--fill-color);\n",
              "    }\n",
              "    20% {\n",
              "      border-color: transparent;\n",
              "      border-left-color: var(--fill-color);\n",
              "      border-top-color: var(--fill-color);\n",
              "    }\n",
              "    30% {\n",
              "      border-color: transparent;\n",
              "      border-left-color: var(--fill-color);\n",
              "      border-top-color: var(--fill-color);\n",
              "      border-right-color: var(--fill-color);\n",
              "    }\n",
              "    40% {\n",
              "      border-color: transparent;\n",
              "      border-right-color: var(--fill-color);\n",
              "      border-top-color: var(--fill-color);\n",
              "    }\n",
              "    60% {\n",
              "      border-color: transparent;\n",
              "      border-right-color: var(--fill-color);\n",
              "    }\n",
              "    80% {\n",
              "      border-color: transparent;\n",
              "      border-right-color: var(--fill-color);\n",
              "      border-bottom-color: var(--fill-color);\n",
              "    }\n",
              "    90% {\n",
              "      border-color: transparent;\n",
              "      border-bottom-color: var(--fill-color);\n",
              "    }\n",
              "  }\n",
              "</style>\n",
              "\n",
              "  <script>\n",
              "    async function quickchart(key) {\n",
              "      const quickchartButtonEl =\n",
              "        document.querySelector('#' + key + ' button');\n",
              "      quickchartButtonEl.disabled = true;  // To prevent multiple clicks.\n",
              "      quickchartButtonEl.classList.add('colab-df-spinner');\n",
              "      try {\n",
              "        const charts = await google.colab.kernel.invokeFunction(\n",
              "            'suggestCharts', [key], {});\n",
              "      } catch (error) {\n",
              "        console.error('Error during call to suggestCharts:', error);\n",
              "      }\n",
              "      quickchartButtonEl.classList.remove('colab-df-spinner');\n",
              "      quickchartButtonEl.classList.add('colab-df-quickchart-complete');\n",
              "    }\n",
              "    (() => {\n",
              "      let quickchartButtonEl =\n",
              "        document.querySelector('#df-c90294d7-b35b-4a06-81a9-fbc961895f4d button');\n",
              "      quickchartButtonEl.style.display =\n",
              "        google.colab.kernel.accessAllowed ? 'block' : 'none';\n",
              "    })();\n",
              "  </script>\n",
              "</div>\n",
              "    </div>\n",
              "  </div>\n"
            ],
            "text/plain": [
              "   Id                                               Data  \\\n",
              "0   0  [4814, 4814, 6010, 6011, 4814, 6011, 6011, 481...   \n",
              "1   1  [6011, 6011, 6011, 6011, 6011, 6011, 6011, 481...   \n",
              "2   2  [8021, 6011, 6011, 6010, 4829, 4814, 6011, 601...   \n",
              "3   3  [4814, 6011, 4814, 4814, 4814, 6011, 6011, 569...   \n",
              "4   4  [4814, 4814, 4814, 4814, 4814, 4814, 5946, 481...   \n",
              "\n",
              "                                              Target  \n",
              "0  [4814, 4814, 4814, 4814, 5411, 4814, 4814, 481...  \n",
              "1  [4814, 6011, 4814, 6011, 4814, 4814, 6011, 481...  \n",
              "2  [6011, 6011, 6010, 4829, 4829, 6010, 6011, 601...  \n",
              "3  [6011, 6011, 6010, 6011, 6011, 4814, 4814, 601...  \n",
              "4  [5499, 6011, 4814, 4829, 5200, 5411, 5499, 591...  "
            ]
          },
          "execution_count": 12,
          "metadata": {},
          "output_type": "execute_result"
        }
      ],
      "source": [
        "df_train.head()"
      ]
    },
    {
      "cell_type": "code",
      "execution_count": 13,
      "id": "833307fc",
      "metadata": {
        "colab": {
          "base_uri": "https://localhost:8080/"
        },
        "execution": {
          "iopub.execute_input": "2022-04-29T11:28:40.639211Z",
          "iopub.status.busy": "2022-04-29T11:28:40.638890Z",
          "iopub.status.idle": "2022-04-29T11:28:40.643472Z",
          "shell.execute_reply": "2022-04-29T11:28:40.642850Z"
        },
        "id": "833307fc",
        "outputId": "296d9ea7-276d-4e36-a228-57ada393f156",
        "papermill": {
          "duration": 0.036333,
          "end_time": "2022-04-29T11:28:40.645093",
          "exception": false,
          "start_time": "2022-04-29T11:28:40.608760",
          "status": "completed"
        },
        "tags": []
      },
      "outputs": [
        {
          "data": {
            "text/plain": [
              "(7033, 3)"
            ]
          },
          "execution_count": 13,
          "metadata": {},
          "output_type": "execute_result"
        }
      ],
      "source": [
        "df_train.shape"
      ]
    },
    {
      "cell_type": "code",
      "execution_count": 14,
      "id": "e8ce02fe",
      "metadata": {
        "colab": {
          "base_uri": "https://localhost:8080/"
        },
        "execution": {
          "iopub.execute_input": "2022-04-29T11:28:40.705956Z",
          "iopub.status.busy": "2022-04-29T11:28:40.705793Z",
          "iopub.status.idle": "2022-04-29T11:28:40.711413Z",
          "shell.execute_reply": "2022-04-29T11:28:40.710349Z"
        },
        "id": "e8ce02fe",
        "outputId": "573e5c56-f541-4697-d65b-e9385f030132",
        "papermill": {
          "duration": 0.037617,
          "end_time": "2022-04-29T11:28:40.713056",
          "exception": false,
          "start_time": "2022-04-29T11:28:40.675439",
          "status": "completed"
        },
        "tags": []
      },
      "outputs": [
        {
          "data": {
            "text/plain": [
              "Id         int64\n",
              "Data      object\n",
              "Target    object\n",
              "dtype: object"
            ]
          },
          "execution_count": 14,
          "metadata": {},
          "output_type": "execute_result"
        }
      ],
      "source": [
        "df_train.dtypes"
      ]
    },
    {
      "cell_type": "code",
      "execution_count": 15,
      "id": "69fb9fee",
      "metadata": {
        "colab": {
          "base_uri": "https://localhost:8080/",
          "height": 206
        },
        "execution": {
          "iopub.execute_input": "2022-04-29T11:28:40.776158Z",
          "iopub.status.busy": "2022-04-29T11:28:40.774926Z",
          "iopub.status.idle": "2022-04-29T11:28:40.788875Z",
          "shell.execute_reply": "2022-04-29T11:28:40.788433Z"
        },
        "id": "69fb9fee",
        "outputId": "69d8ce06-a24a-4202-89bd-69101aae2aa6",
        "papermill": {
          "duration": 0.046827,
          "end_time": "2022-04-29T11:28:40.790437",
          "exception": false,
          "start_time": "2022-04-29T11:28:40.743610",
          "status": "completed"
        },
        "tags": []
      },
      "outputs": [
        {
          "data": {
            "text/html": [
              "\n",
              "  <div id=\"df-902f7aca-37b0-46bb-8580-ae670708381d\" class=\"colab-df-container\">\n",
              "    <div>\n",
              "<style scoped>\n",
              "    .dataframe tbody tr th:only-of-type {\n",
              "        vertical-align: middle;\n",
              "    }\n",
              "\n",
              "    .dataframe tbody tr th {\n",
              "        vertical-align: top;\n",
              "    }\n",
              "\n",
              "    .dataframe thead th {\n",
              "        text-align: right;\n",
              "    }\n",
              "</style>\n",
              "<table border=\"1\" class=\"dataframe\">\n",
              "  <thead>\n",
              "    <tr style=\"text-align: right;\">\n",
              "      <th></th>\n",
              "      <th>Id</th>\n",
              "      <th>Data</th>\n",
              "    </tr>\n",
              "  </thead>\n",
              "  <tbody>\n",
              "    <tr>\n",
              "      <th>0</th>\n",
              "      <td>0</td>\n",
              "      <td>[4814, 4814, 6011, 6011, 6010, 6011, 6011, 481...</td>\n",
              "    </tr>\n",
              "    <tr>\n",
              "      <th>1</th>\n",
              "      <td>1</td>\n",
              "      <td>[6010, 6011, 6010, 5411, 5411, 5977, 6011, 601...</td>\n",
              "    </tr>\n",
              "    <tr>\n",
              "      <th>2</th>\n",
              "      <td>2</td>\n",
              "      <td>[4814, 6011, 5251, 6011, 7832, 5641, 5814, 482...</td>\n",
              "    </tr>\n",
              "    <tr>\n",
              "      <th>3</th>\n",
              "      <td>3</td>\n",
              "      <td>[6011, 4722, 4722, 4722, 4814, 6011, 6011, 482...</td>\n",
              "    </tr>\n",
              "    <tr>\n",
              "      <th>4</th>\n",
              "      <td>4</td>\n",
              "      <td>[4814, 4814, 4814, 6011, 4814, 4814, 4814, 481...</td>\n",
              "    </tr>\n",
              "  </tbody>\n",
              "</table>\n",
              "</div>\n",
              "    <div class=\"colab-df-buttons\">\n",
              "\n",
              "  <div class=\"colab-df-container\">\n",
              "    <button class=\"colab-df-convert\" onclick=\"convertToInteractive('df-902f7aca-37b0-46bb-8580-ae670708381d')\"\n",
              "            title=\"Convert this dataframe to an interactive table.\"\n",
              "            style=\"display:none;\">\n",
              "\n",
              "  <svg xmlns=\"http://www.w3.org/2000/svg\" height=\"24px\" viewBox=\"0 -960 960 960\">\n",
              "    <path d=\"M120-120v-720h720v720H120Zm60-500h600v-160H180v160Zm220 220h160v-160H400v160Zm0 220h160v-160H400v160ZM180-400h160v-160H180v160Zm440 0h160v-160H620v160ZM180-180h160v-160H180v160Zm440 0h160v-160H620v160Z\"/>\n",
              "  </svg>\n",
              "    </button>\n",
              "\n",
              "  <style>\n",
              "    .colab-df-container {\n",
              "      display:flex;\n",
              "      gap: 12px;\n",
              "    }\n",
              "\n",
              "    .colab-df-convert {\n",
              "      background-color: #E8F0FE;\n",
              "      border: none;\n",
              "      border-radius: 50%;\n",
              "      cursor: pointer;\n",
              "      display: none;\n",
              "      fill: #1967D2;\n",
              "      height: 32px;\n",
              "      padding: 0 0 0 0;\n",
              "      width: 32px;\n",
              "    }\n",
              "\n",
              "    .colab-df-convert:hover {\n",
              "      background-color: #E2EBFA;\n",
              "      box-shadow: 0px 1px 2px rgba(60, 64, 67, 0.3), 0px 1px 3px 1px rgba(60, 64, 67, 0.15);\n",
              "      fill: #174EA6;\n",
              "    }\n",
              "\n",
              "    .colab-df-buttons div {\n",
              "      margin-bottom: 4px;\n",
              "    }\n",
              "\n",
              "    [theme=dark] .colab-df-convert {\n",
              "      background-color: #3B4455;\n",
              "      fill: #D2E3FC;\n",
              "    }\n",
              "\n",
              "    [theme=dark] .colab-df-convert:hover {\n",
              "      background-color: #434B5C;\n",
              "      box-shadow: 0px 1px 3px 1px rgba(0, 0, 0, 0.15);\n",
              "      filter: drop-shadow(0px 1px 2px rgba(0, 0, 0, 0.3));\n",
              "      fill: #FFFFFF;\n",
              "    }\n",
              "  </style>\n",
              "\n",
              "    <script>\n",
              "      const buttonEl =\n",
              "        document.querySelector('#df-902f7aca-37b0-46bb-8580-ae670708381d button.colab-df-convert');\n",
              "      buttonEl.style.display =\n",
              "        google.colab.kernel.accessAllowed ? 'block' : 'none';\n",
              "\n",
              "      async function convertToInteractive(key) {\n",
              "        const element = document.querySelector('#df-902f7aca-37b0-46bb-8580-ae670708381d');\n",
              "        const dataTable =\n",
              "          await google.colab.kernel.invokeFunction('convertToInteractive',\n",
              "                                                    [key], {});\n",
              "        if (!dataTable) return;\n",
              "\n",
              "        const docLinkHtml = 'Like what you see? Visit the ' +\n",
              "          '<a target=\"_blank\" href=https://colab.research.google.com/notebooks/data_table.ipynb>data table notebook</a>'\n",
              "          + ' to learn more about interactive tables.';\n",
              "        element.innerHTML = '';\n",
              "        dataTable['output_type'] = 'display_data';\n",
              "        await google.colab.output.renderOutput(dataTable, element);\n",
              "        const docLink = document.createElement('div');\n",
              "        docLink.innerHTML = docLinkHtml;\n",
              "        element.appendChild(docLink);\n",
              "      }\n",
              "    </script>\n",
              "  </div>\n",
              "\n",
              "\n",
              "<div id=\"df-f16a4430-ebc9-44e7-913b-737ddae58b59\">\n",
              "  <button class=\"colab-df-quickchart\" onclick=\"quickchart('df-f16a4430-ebc9-44e7-913b-737ddae58b59')\"\n",
              "            title=\"Suggest charts.\"\n",
              "            style=\"display:none;\">\n",
              "\n",
              "<svg xmlns=\"http://www.w3.org/2000/svg\" height=\"24px\"viewBox=\"0 0 24 24\"\n",
              "     width=\"24px\">\n",
              "    <g>\n",
              "        <path d=\"M19 3H5c-1.1 0-2 .9-2 2v14c0 1.1.9 2 2 2h14c1.1 0 2-.9 2-2V5c0-1.1-.9-2-2-2zM9 17H7v-7h2v7zm4 0h-2V7h2v10zm4 0h-2v-4h2v4z\"/>\n",
              "    </g>\n",
              "</svg>\n",
              "  </button>\n",
              "\n",
              "<style>\n",
              "  .colab-df-quickchart {\n",
              "      --bg-color: #E8F0FE;\n",
              "      --fill-color: #1967D2;\n",
              "      --hover-bg-color: #E2EBFA;\n",
              "      --hover-fill-color: #174EA6;\n",
              "      --disabled-fill-color: #AAA;\n",
              "      --disabled-bg-color: #DDD;\n",
              "  }\n",
              "\n",
              "  [theme=dark] .colab-df-quickchart {\n",
              "      --bg-color: #3B4455;\n",
              "      --fill-color: #D2E3FC;\n",
              "      --hover-bg-color: #434B5C;\n",
              "      --hover-fill-color: #FFFFFF;\n",
              "      --disabled-bg-color: #3B4455;\n",
              "      --disabled-fill-color: #666;\n",
              "  }\n",
              "\n",
              "  .colab-df-quickchart {\n",
              "    background-color: var(--bg-color);\n",
              "    border: none;\n",
              "    border-radius: 50%;\n",
              "    cursor: pointer;\n",
              "    display: none;\n",
              "    fill: var(--fill-color);\n",
              "    height: 32px;\n",
              "    padding: 0;\n",
              "    width: 32px;\n",
              "  }\n",
              "\n",
              "  .colab-df-quickchart:hover {\n",
              "    background-color: var(--hover-bg-color);\n",
              "    box-shadow: 0 1px 2px rgba(60, 64, 67, 0.3), 0 1px 3px 1px rgba(60, 64, 67, 0.15);\n",
              "    fill: var(--button-hover-fill-color);\n",
              "  }\n",
              "\n",
              "  .colab-df-quickchart-complete:disabled,\n",
              "  .colab-df-quickchart-complete:disabled:hover {\n",
              "    background-color: var(--disabled-bg-color);\n",
              "    fill: var(--disabled-fill-color);\n",
              "    box-shadow: none;\n",
              "  }\n",
              "\n",
              "  .colab-df-spinner {\n",
              "    border: 2px solid var(--fill-color);\n",
              "    border-color: transparent;\n",
              "    border-bottom-color: var(--fill-color);\n",
              "    animation:\n",
              "      spin 1s steps(1) infinite;\n",
              "  }\n",
              "\n",
              "  @keyframes spin {\n",
              "    0% {\n",
              "      border-color: transparent;\n",
              "      border-bottom-color: var(--fill-color);\n",
              "      border-left-color: var(--fill-color);\n",
              "    }\n",
              "    20% {\n",
              "      border-color: transparent;\n",
              "      border-left-color: var(--fill-color);\n",
              "      border-top-color: var(--fill-color);\n",
              "    }\n",
              "    30% {\n",
              "      border-color: transparent;\n",
              "      border-left-color: var(--fill-color);\n",
              "      border-top-color: var(--fill-color);\n",
              "      border-right-color: var(--fill-color);\n",
              "    }\n",
              "    40% {\n",
              "      border-color: transparent;\n",
              "      border-right-color: var(--fill-color);\n",
              "      border-top-color: var(--fill-color);\n",
              "    }\n",
              "    60% {\n",
              "      border-color: transparent;\n",
              "      border-right-color: var(--fill-color);\n",
              "    }\n",
              "    80% {\n",
              "      border-color: transparent;\n",
              "      border-right-color: var(--fill-color);\n",
              "      border-bottom-color: var(--fill-color);\n",
              "    }\n",
              "    90% {\n",
              "      border-color: transparent;\n",
              "      border-bottom-color: var(--fill-color);\n",
              "    }\n",
              "  }\n",
              "</style>\n",
              "\n",
              "  <script>\n",
              "    async function quickchart(key) {\n",
              "      const quickchartButtonEl =\n",
              "        document.querySelector('#' + key + ' button');\n",
              "      quickchartButtonEl.disabled = true;  // To prevent multiple clicks.\n",
              "      quickchartButtonEl.classList.add('colab-df-spinner');\n",
              "      try {\n",
              "        const charts = await google.colab.kernel.invokeFunction(\n",
              "            'suggestCharts', [key], {});\n",
              "      } catch (error) {\n",
              "        console.error('Error during call to suggestCharts:', error);\n",
              "      }\n",
              "      quickchartButtonEl.classList.remove('colab-df-spinner');\n",
              "      quickchartButtonEl.classList.add('colab-df-quickchart-complete');\n",
              "    }\n",
              "    (() => {\n",
              "      let quickchartButtonEl =\n",
              "        document.querySelector('#df-f16a4430-ebc9-44e7-913b-737ddae58b59 button');\n",
              "      quickchartButtonEl.style.display =\n",
              "        google.colab.kernel.accessAllowed ? 'block' : 'none';\n",
              "    })();\n",
              "  </script>\n",
              "</div>\n",
              "    </div>\n",
              "  </div>\n"
            ],
            "text/plain": [
              "   Id                                               Data\n",
              "0   0  [4814, 4814, 6011, 6011, 6010, 6011, 6011, 481...\n",
              "1   1  [6010, 6011, 6010, 5411, 5411, 5977, 6011, 601...\n",
              "2   2  [4814, 6011, 5251, 6011, 7832, 5641, 5814, 482...\n",
              "3   3  [6011, 4722, 4722, 4722, 4814, 6011, 6011, 482...\n",
              "4   4  [4814, 4814, 4814, 6011, 4814, 4814, 4814, 481..."
            ]
          },
          "execution_count": 15,
          "metadata": {},
          "output_type": "execute_result"
        }
      ],
      "source": [
        "df_test.head()"
      ]
    },
    {
      "cell_type": "code",
      "execution_count": 16,
      "id": "da5c89b8",
      "metadata": {
        "colab": {
          "base_uri": "https://localhost:8080/"
        },
        "execution": {
          "iopub.execute_input": "2022-04-29T11:28:40.853197Z",
          "iopub.status.busy": "2022-04-29T11:28:40.852834Z",
          "iopub.status.idle": "2022-04-29T11:28:40.856984Z",
          "shell.execute_reply": "2022-04-29T11:28:40.856481Z"
        },
        "id": "da5c89b8",
        "outputId": "99d25a69-f5a6-4f30-b2f7-332b5e03aa13",
        "papermill": {
          "duration": 0.037477,
          "end_time": "2022-04-29T11:28:40.858816",
          "exception": false,
          "start_time": "2022-04-29T11:28:40.821339",
          "status": "completed"
        },
        "tags": []
      },
      "outputs": [
        {
          "data": {
            "text/plain": [
              "(7033, 2)"
            ]
          },
          "execution_count": 16,
          "metadata": {},
          "output_type": "execute_result"
        }
      ],
      "source": [
        "df_test.shape"
      ]
    },
    {
      "cell_type": "code",
      "execution_count": 17,
      "id": "3d38adac",
      "metadata": {
        "colab": {
          "base_uri": "https://localhost:8080/"
        },
        "execution": {
          "iopub.execute_input": "2022-04-29T11:28:40.922135Z",
          "iopub.status.busy": "2022-04-29T11:28:40.921685Z",
          "iopub.status.idle": "2022-04-29T11:28:40.926566Z",
          "shell.execute_reply": "2022-04-29T11:28:40.926087Z"
        },
        "id": "3d38adac",
        "outputId": "a955113c-6dfa-4f59-b027-df7f5a4443be",
        "papermill": {
          "duration": 0.038041,
          "end_time": "2022-04-29T11:28:40.927940",
          "exception": false,
          "start_time": "2022-04-29T11:28:40.889899",
          "status": "completed"
        },
        "tags": []
      },
      "outputs": [
        {
          "data": {
            "text/plain": [
              "Id       int64\n",
              "Data    object\n",
              "dtype: object"
            ]
          },
          "execution_count": 17,
          "metadata": {},
          "output_type": "execute_result"
        }
      ],
      "source": [
        "df_test.dtypes"
      ]
    },
    {
      "cell_type": "markdown",
      "id": "eZ1g0mHqO3q6",
      "metadata": {
        "id": "eZ1g0mHqO3q6"
      },
      "source": [
        "Идея 1 - предсказание, зависящее только от данных в df_train['Target'] на i-ой позиции."
      ]
    },
    {
      "cell_type": "code",
      "execution_count": 18,
      "id": "fkuV0nmubAuf",
      "metadata": {
        "colab": {
          "base_uri": "https://localhost:8080/"
        },
        "id": "fkuV0nmubAuf",
        "outputId": "2d4c8647-2480-4b32-9c9b-de038f489fa6"
      },
      "outputs": [
        {
          "data": {
            "text/plain": [
              "0.1523357290686311"
            ]
          },
          "execution_count": 18,
          "metadata": {},
          "output_type": "execute_result"
        }
      ],
      "source": [
        "class Idea1:\n",
        "    def __init__(self, data):\n",
        "        self.target = []\n",
        "        for index_target in range(10):\n",
        "            self.target.append(list(data['Target'].apply(lambda x: x[index_target])))\n",
        "\n",
        "    def predict(self, count: int) -> list:\n",
        "        def make_answer():\n",
        "            answer = []\n",
        "            for index_target in range(10):\n",
        "                answer.append(random.choice(self.target[index_target]))\n",
        "\n",
        "            return answer\n",
        "\n",
        "        submission_data = []\n",
        "        for id in range(count):\n",
        "            submission_data.append(make_answer())\n",
        "\n",
        "        return submission_data\n",
        "\n",
        "model = Idea1(df_train)\n",
        "submission = model.predict(df_test.shape[0])\n",
        "make_csv(submission, 'Idea1')\n",
        "mapk(df_train['Target'], submission)"
      ]
    },
    {
      "cell_type": "markdown",
      "id": "5dhnSwNYgaLS",
      "metadata": {
        "id": "5dhnSwNYgaLS"
      },
      "source": [
        "Идея 2 : разбить транзакции клиента на 10 частей и формировать вектор ответа на основе этого разбиения."
      ]
    },
    {
      "cell_type": "code",
      "execution_count": 19,
      "id": "5awRbLCZixPe",
      "metadata": {
        "colab": {
          "base_uri": "https://localhost:8080/"
        },
        "id": "5awRbLCZixPe",
        "outputId": "f45fccbb-1065-48f6-e717-4622e4ae9538"
      },
      "outputs": [
        {
          "data": {
            "text/plain": [
              "(40, 21101)"
            ]
          },
          "execution_count": 19,
          "metadata": {},
          "output_type": "execute_result"
        }
      ],
      "source": [
        "df_train['Data'].apply(len).min(), df_train['Data'].apply(len).max() # (train) количество транзакций на клиента лежит в (40, 21101)"
      ]
    },
    {
      "cell_type": "code",
      "execution_count": 20,
      "id": "S2gP1Aon_RdH",
      "metadata": {
        "colab": {
          "base_uri": "https://localhost:8080/"
        },
        "id": "S2gP1Aon_RdH",
        "outputId": "d61b434e-16f6-4d08-ab46-67ec3aff1023"
      },
      "outputs": [
        {
          "data": {
            "text/plain": [
              "(40, 88771)"
            ]
          },
          "execution_count": 20,
          "metadata": {},
          "output_type": "execute_result"
        }
      ],
      "source": [
        "df_test['Data'].apply(len).min(), df_test['Data'].apply(len).max() # (test) количество транзакций на клиента лежит в (40, 88771)"
      ]
    },
    {
      "cell_type": "code",
      "execution_count": 21,
      "id": "EL4S40tMlfHr",
      "metadata": {
        "colab": {
          "base_uri": "https://localhost:8080/"
        },
        "id": "EL4S40tMlfHr",
        "outputId": "28fc877f-c127-4bb7-db7f-1252294749ac"
      },
      "outputs": [
        {
          "data": {
            "text/plain": [
              "0.19173439725195734"
            ]
          },
          "execution_count": 21,
          "metadata": {},
          "output_type": "execute_result"
        }
      ],
      "source": [
        "class Idea2:\n",
        "    def predict(self, data: pd.DataFrame) -> list:\n",
        "        def make_answer(client_data: list) -> list:\n",
        "            answer = []\n",
        "            lenght = len(client_data) // 10\n",
        "            for i in range(10):\n",
        "                answer.append(random.choice(client_data[i * lenght : (i + 1) * lenght if i != 9 else len(client_data)]))\n",
        "\n",
        "            random.shuffle(answer) # ничем не подкрепленная гипотеза о перемешивании набора кодов дает чуть лучший результат по предложенной метрике\n",
        "            return answer\n",
        "\n",
        "        submission_data = []\n",
        "        for client in data:\n",
        "            submission_data.append(make_answer(client))\n",
        "\n",
        "        return submission_data\n",
        "\n",
        "model = Idea2()\n",
        "submission = model.predict(df_test['Data'])\n",
        "make_csv(submission, 'Idea2')\n",
        "mapk(df_train['Target'], model.predict(df_train['Data']))"
      ]
    },
    {
      "cell_type": "markdown",
      "id": "Y8kcSA5dDk3H",
      "metadata": {
        "id": "Y8kcSA5dDk3H"
      },
      "source": [
        "Идея 3: константное предсказание на основе ОТВЕТОВ в обучающей выборке."
      ]
    },
    {
      "cell_type": "code",
      "execution_count": 22,
      "id": "91883e20",
      "metadata": {
        "colab": {
          "base_uri": "https://localhost:8080/"
        },
        "execution": {
          "iopub.execute_input": "2022-04-29T11:28:41.049892Z",
          "iopub.status.busy": "2022-04-29T11:28:41.049515Z",
          "iopub.status.idle": "2022-04-29T11:28:41.634250Z",
          "shell.execute_reply": "2022-04-29T11:28:41.633482Z"
        },
        "id": "91883e20",
        "outputId": "17634177-972c-40b3-e356-bf13091e455a",
        "papermill": {
          "duration": 0.607889,
          "end_time": "2022-04-29T11:28:41.635905",
          "exception": false,
          "start_time": "2022-04-29T11:28:41.028016",
          "status": "completed"
        },
        "tags": []
      },
      "outputs": [
        {
          "data": {
            "text/plain": [
              "6011    18373\n",
              "4814    12961\n",
              "5411    10518\n",
              "4829     5920\n",
              "6010     4960\n",
              "5499     3623\n",
              "5912     1485\n",
              "5541     1344\n",
              "5331     1339\n",
              "5812      857\n",
              "Name: Target, dtype: int64"
            ]
          },
          "execution_count": 22,
          "metadata": {},
          "output_type": "execute_result"
        }
      ],
      "source": [
        "top10_codes = df_train['Target'].explode().value_counts().head(10)\n",
        "top10_codes"
      ]
    },
    {
      "cell_type": "code",
      "execution_count": 23,
      "id": "bwrSYT17ETim",
      "metadata": {
        "id": "bwrSYT17ETim"
      },
      "outputs": [],
      "source": [
        "constant_answer = top10_codes.index"
      ]
    },
    {
      "cell_type": "code",
      "execution_count": 24,
      "id": "FXGMCdE4BWUV",
      "metadata": {
        "colab": {
          "base_uri": "https://localhost:8080/"
        },
        "id": "FXGMCdE4BWUV",
        "outputId": "1be90c48-4196-480e-86b2-762763fbb39a"
      },
      "outputs": [
        {
          "data": {
            "text/plain": [
              "0.28712452519753817"
            ]
          },
          "execution_count": 24,
          "metadata": {},
          "output_type": "execute_result"
        }
      ],
      "source": [
        "class Idea3:\n",
        "    def predict(self, data: pd.DataFrame) -> list:\n",
        "        def make_answer() -> list:\n",
        "            return constant_answer\n",
        "\n",
        "        submission_data = []\n",
        "        for client in range(len(data)):\n",
        "            submission_data.append(make_answer())\n",
        "\n",
        "        return submission_data\n",
        "\n",
        "model = Idea3()\n",
        "submission = model.predict(df_test['Data'])\n",
        "make_csv(submission, 'Idea3')\n",
        "mapk(df_train['Target'], model.predict(df_train['Data']))"
      ]
    },
    {
      "cell_type": "markdown",
      "id": "dqnWjPZCLk37",
      "metadata": {
        "id": "dqnWjPZCLk37"
      },
      "source": [
        "Идея 4: на коротком отрезке времени транзакции достаточно похожи."
      ]
    },
    {
      "cell_type": "code",
      "execution_count": 25,
      "id": "Csqhq8N2Lw0m",
      "metadata": {
        "colab": {
          "base_uri": "https://localhost:8080/"
        },
        "id": "Csqhq8N2Lw0m",
        "outputId": "13543036-b490-4d41-f90b-b88858aa5714"
      },
      "outputs": [
        {
          "data": {
            "text/plain": [
              "0.19135855005540772"
            ]
          },
          "execution_count": 25,
          "metadata": {},
          "output_type": "execute_result"
        }
      ],
      "source": [
        "class Idea4:\n",
        "    def predict(self, data: pd.DataFrame) -> list:\n",
        "        def make_answer(client_data: list) -> list:\n",
        "            answer = []\n",
        "            for i in range(10):\n",
        "                answer.append(random.choice(client_data[-40:]))\n",
        "\n",
        "            #random.shuffle(answer) # ничем не подкрепленная гипотеза о перемешивании набора кодов дает чуть лучший результат по предложенной метрике\n",
        "            return answer\n",
        "\n",
        "        submission_data = []\n",
        "        for client in data:\n",
        "            submission_data.append(make_answer(client))\n",
        "\n",
        "        return submission_data\n",
        "\n",
        "model = Idea4()\n",
        "submission = model.predict(df_test['Data'])\n",
        "make_csv(submission, 'Idea4')\n",
        "mapk(df_train['Target'], model.predict(df_train['Data']))"
      ]
    },
    {
      "cell_type": "markdown",
      "id": "jUVO33ZRQk4O",
      "metadata": {
        "id": "jUVO33ZRQk4O"
      },
      "source": [
        "Идея 5: топ популярных cmm кодов за последнее время."
      ]
    },
    {
      "cell_type": "code",
      "execution_count": 26,
      "id": "bvBeVaILGnQU",
      "metadata": {
        "colab": {
          "base_uri": "https://localhost:8080/"
        },
        "id": "bvBeVaILGnQU",
        "outputId": "f7f153cb-611f-41f0-8c2b-2d5d74b494a7"
      },
      "outputs": [
        {
          "data": {
            "text/plain": [
              "4.511446040096687"
            ]
          },
          "execution_count": 26,
          "metadata": {},
          "output_type": "execute_result"
        }
      ],
      "source": [
        "best_param = []\n",
        "for _, client in df_train.iterrows():\n",
        "    best_param.append(len(set(client['Target'])))\n",
        "sum(best_param) / len(best_param)"
      ]
    },
    {
      "cell_type": "code",
      "execution_count": 27,
      "id": "c5Au_5NdPVE-",
      "metadata": {
        "colab": {
          "base_uri": "https://localhost:8080/"
        },
        "id": "c5Au_5NdPVE-",
        "outputId": "c081e175-98c1-489e-a5cf-59900096d923"
      },
      "outputs": [
        {
          "data": {
            "text/plain": [
              "0.2803637613157021"
            ]
          },
          "execution_count": 27,
          "metadata": {},
          "output_type": "execute_result"
        }
      ],
      "source": [
        "class Idea5:\n",
        "    def predict(self, data: pd.DataFrame) -> list:\n",
        "        def make_answer(client_data: list) -> list:\n",
        "            answer = list(pd.Series(client_data[-40:]).value_counts().head(5).index) # гиперпараметр в head\n",
        "            i = 0\n",
        "            while(len(answer) != 10):\n",
        "                answer.append(answer[i])\n",
        "                i += 1\n",
        "            return answer\n",
        "\n",
        "        submission_data = []\n",
        "        for client in data:\n",
        "            submission_data.append(make_answer(client))\n",
        "\n",
        "        return submission_data\n",
        "\n",
        "model = Idea5()\n",
        "submission = model.predict(df_test['Data'])\n",
        "make_csv(submission, 'Idea5')\n",
        "mapk(df_train['Target'], model.predict(df_train['Data']))"
      ]
    },
    {
      "cell_type": "markdown",
      "id": "9L4SXhuLHZeh",
      "metadata": {
        "id": "9L4SXhuLHZeh"
      },
      "source": [
        "Идея 6: анализ поведения клиента, анализ cmm кодов, очистка объекта от \"выбросов\", if-else логика.\n",
        "\n",
        "Учитывать категории, которыми пользовался клиент. Пробовать разные гиперпараметры."
      ]
    },
    {
      "cell_type": "code",
      "execution_count": 28,
      "id": "AhT5E2rjeMcD",
      "metadata": {
        "colab": {
          "base_uri": "https://localhost:8080/"
        },
        "id": "AhT5E2rjeMcD",
        "outputId": "5363b4ec-9fd8-4b8d-b931-d360c13a91fb"
      },
      "outputs": [
        {
          "data": {
            "text/plain": [
              "163"
            ]
          },
          "execution_count": 28,
          "metadata": {},
          "output_type": "execute_result"
        }
      ],
      "source": [
        "len(pd.unique(df_train['Target'].explode()))"
      ]
    },
    {
      "cell_type": "code",
      "execution_count": 29,
      "id": "1qt-2rDp7-6j",
      "metadata": {
        "colab": {
          "base_uri": "https://localhost:8080/",
          "height": 466
        },
        "id": "1qt-2rDp7-6j",
        "outputId": "c8a11fa4-da74-4713-ad10-4b8c33b3ca53"
      },
      "outputs": [
        {
          "data": {
            "text/plain": [
              "Text(0, 0.5, 'times')"
            ]
          },
          "execution_count": 29,
          "metadata": {},
          "output_type": "execute_result"
        },
        {
          "data": {
            "image/png": "[encoded data removed]",
            "text/plain": [
              "<Figure size 640x480 with 1 Axes>"
            ]
          },
          "metadata": {},
          "output_type": "display_data"
        }
      ],
      "source": [
        "for_hist = []\n",
        "for _, client in df_test.iterrows():\n",
        "    for_hist.append(len(client['Data']))\n",
        "\n",
        "plt.hist(for_hist, bins=len(set(for_hist)))\n",
        "plt.xlabel('lenghts')\n",
        "plt.ylabel('times')"
      ]
    },
    {
      "cell_type": "code",
      "execution_count": 30,
      "id": "JBxuylYregXX",
      "metadata": {
        "colab": {
          "base_uri": "https://localhost:8080/"
        },
        "id": "JBxuylYregXX",
        "outputId": "efce5a89-e5fe-4206-e5be-32c3ee81e74b"
      },
      "outputs": [
        {
          "name": "stdout",
          "output_type": "stream",
          "text": [
            "{4814: (3, 34), 5411: (4, 22), 6011: (4, 22), 5311: (4, 20)}  :=  [4814, 4814, 4814, 4814, 5411, 4814, 4814, 4814, 4814, 4814]\n",
            "============================================================================================================================================\n",
            "{6011: (2, 40), 4814: (2, 52)}  :=  [4814, 6011, 4814, 6011, 4814, 4814, 6011, 4814, 6011, 4814]\n",
            "============================================================================================================================================\n",
            "{6010: (5, 19), 4829: (6, 15), 4814: (6, 9), 5814: (3, 20)}  :=  [6011, 6011, 6010, 4829, 4829, 6010, 6011, 6011, 4814, 6011]\n",
            "============================================================================================================================================\n",
            "{5411: (2, 47), 4814: (4, 22), 6011: (4, 22)}  :=  [6011, 6011, 6010, 6011, 6011, 4814, 4814, 6011, 4814, 4814]\n",
            "============================================================================================================================================\n",
            "{6011: (5, 18), 4829: (9, 8), 4814: (5, 21), 5411: (5, 19), 6010: (7, 12)}  :=  [5499, 6011, 4814, 4829, 5200, 5411, 5499, 5912, 5411, 5912]\n",
            "============================================================================================================================================\n",
            "{6011: (3, 35), 5411: (6, 16), 4814: (9, 11)}  :=  [6011, 5331, 5411, 5411, 6011, 6010, 6011, 6011, 6011, 5411]\n",
            "============================================================================================================================================\n",
            "{4814: (8, 9), 5499: (2, 60), 5411: (9, 9), 6011: (7, 12)}  :=  [5499, 5499, 6010, 5411, 5411, 5499, 4814, 5499, 5411, 5499]\n",
            "============================================================================================================================================\n",
            "{6011: (1, 77), 6010: (9, 9)}  :=  [6011, 6011, 6010, 6011, 6011, 6011, 6011, 6011, 6011, 6011]\n",
            "============================================================================================================================================\n",
            "{4814: (1, 70), 5735: (6, 16), 6011: (9, 10)}  :=  [4814, 5735, 6011, 4814, 4814, 5735, 6010, 6011, 4814, 4814]\n",
            "============================================================================================================================================\n",
            "{5411: (2, 58), 6011: (5, 19)}  :=  [5411, 5411, 5411, 4829, 5411, 5411, 5411, 5411, 5411, 5912]\n",
            "============================================================================================================================================\n"
          ]
        }
      ],
      "source": [
        "piece = df_train.head(10)\n",
        "piece['Data'] = piece['Data'].apply(lambda vec: vec if len(vec)<100 else vec[-100:])\n",
        "piece.drop(['Id'], inplace = True, axis = 1)\n",
        "\n",
        "for _, client in piece.iterrows():\n",
        "    indexes = {}\n",
        "    for i, cmm in enumerate(client['Data']):\n",
        "        if cmm not in indexes:\n",
        "            indexes[cmm] = []\n",
        "        indexes[cmm].append(i)\n",
        "    density = {}\n",
        "    size_factor = len(client['Data']) / 100 # Для компенсации размера маленьких векторов\n",
        "    for key in indexes:\n",
        "        vec = indexes[key]\n",
        "        if len(vec) >= 8 * size_factor:\n",
        "            distance = 0\n",
        "            for i in range(1, len(vec)):\n",
        "                distance += vec[i] - vec[i - 1]\n",
        "            distance /= len(vec)\n",
        "            density[key] = (round(distance), round(len(vec) / size_factor)) # Более детально рассмотрим зависимость транзакций и target\n",
        "    print(density, ' := ', client['Target'])\n",
        "    print('=' * 140)"
      ]
    },
    {
      "cell_type": "code",
      "execution_count": 31,
      "id": "wDJqUK1xA4xq",
      "metadata": {
        "colab": {
          "base_uri": "https://localhost:8080/"
        },
        "id": "wDJqUK1xA4xq",
        "outputId": "7e17c2ca-bd21-487d-a369-d3389cb1c605"
      },
      "outputs": [
        {
          "data": {
            "text/plain": [
              "6011    700677\n",
              "6010    490602\n",
              "4814    473396\n",
              "5411    472408\n",
              "4829    307388\n",
              "5499    164719\n",
              "5541     68224\n",
              "5912     65071\n",
              "5331     61833\n",
              "5812     52029\n",
              "5814     47010\n",
              "5921     28977\n",
              "5999     25985\n",
              "5977     17171\n",
              "5311     16852\n",
              "5964     16533\n",
              "5691     14597\n",
              "5983     14042\n",
              "5211     13814\n",
              "8999     11656\n",
              "Name: Data, dtype: int64"
            ]
          },
          "execution_count": 31,
          "metadata": {},
          "output_type": "execute_result"
        }
      ],
      "source": [
        "top20_codes = df_train['Data'].explode().value_counts().head(20)\n",
        "top20_codes"
      ]
    },
    {
      "cell_type": "code",
      "execution_count": 32,
      "id": "JwPkGRYI-zia",
      "metadata": {
        "id": "JwPkGRYI-zia"
      },
      "outputs": [],
      "source": [
        "categories = {\n",
        "    'build': [1520, 1711, 1731, 1740, 1750, 1761, 5039, 5331, 5211], # 5331\n",
        "    'print': [2741, 2791],\n",
        "    'fly': [i for i in range(3000, 3006)],\n",
        "    'drive': [4011, 4111, 4112, 4119, 4121, 4131, 5541, 5983],\n",
        "    'equipment': [5021, 5044, 5045, 5046],\n",
        "    'banks': [6010, 6011, 6012, 6022, 6023, 6025, 4829],\n",
        "    'chill': [7011, 7012, 7032, 7033, 5812, 5814, 5921], # 5812, 5814, 5921\n",
        "    'clean': [7210, 7211, 2842],\n",
        "    'health': [742, 8011, 8021, 8031, 8041, 8042, 8043, 5912],\n",
        "    'taxes': [9034, 9211, 9222, 9223, 9311, 9399],\n",
        "    'eat': [5411, 5499, 5331, 5812, 5814, 5921, 5999, 5311]\n",
        "    #'nowhere': [5977, 5964, 5691, 8999, 4814]\n",
        "}"
      ]
    },
    {
      "cell_type": "code",
      "execution_count": 47,
      "id": "w7t9hWqjHzEO",
      "metadata": {
        "colab": {
          "base_uri": "https://localhost:8080/"
        },
        "id": "w7t9hWqjHzEO",
        "outputId": "5a575ed8-1503-497a-93bb-6d2abdb7bb24"
      },
      "outputs": [
        {
          "data": {
            "text/plain": [
              "0.2137541160831364"
            ]
          },
          "execution_count": 47,
          "metadata": {},
          "output_type": "execute_result"
        }
      ],
      "source": [
        "class Idea6:\n",
        "    def predict(self, data: pd.DataFrame) -> list:\n",
        "        def make_answer(client_data: list) -> list:\n",
        "            answer = [0 for i in range(10)]\n",
        "            lenght = len(client_data)\n",
        "            piece = client_data if lenght < 100 else client_data[-100:]\n",
        "            pools = {}\n",
        "            indexes = {} # Индексы cmm кодов в последнем периоде транзакций\n",
        "            density = {} # \"Плотность cmm кода\"\n",
        "\n",
        "            for i, cmm in enumerate(piece):\n",
        "                if cmm not in indexes:\n",
        "                    indexes[cmm] = []\n",
        "                indexes[cmm].append(i)\n",
        "            size_factor = len(piece) / 100 # Для компенсации размера маленьких векторов\n",
        "            indexes = {k: v for k, v in sorted(indexes.items(), key = lambda item: len(item[1]), reverse = True)}\n",
        "\n",
        "            for key in indexes:\n",
        "                vec = indexes[key]\n",
        "                distance = 0\n",
        "                for i in range(1, len(vec)):\n",
        "                    distance += vec[i] - vec[i - 1]\n",
        "                distance /= len(vec)\n",
        "                density[key] = (round(distance), round(len(vec) / size_factor))\n",
        "\n",
        "            for cmm_ans in density.keys(): # не больше 10\n",
        "                pool = []\n",
        "                counts = {cmm_ans: 0}\n",
        "                cmm_category = 'noname'\n",
        "                for category in categories: # 11 категорий\n",
        "                    if cmm_ans in categories[category]:\n",
        "                        cmm_category = category\n",
        "                        break\n",
        "\n",
        "                all = 0\n",
        "                if cmm_category == 'noname':\n",
        "                    for cmm in client_data: # o(N)\n",
        "                        if cmm == cmm_ans:\n",
        "                            all += 1\n",
        "                else:\n",
        "                    counts = {k: 0 for k in categories[cmm_category]}\n",
        "                    for cmm in client_data: # o(N)\n",
        "                        if cmm in categories[category]: # учитываем все cmm одной категории, которыми пользовался клиент\n",
        "                            counts[cmm] += 1\n",
        "                            all += 1\n",
        "\n",
        "                counts = sorted(counts.items(), key = lambda item: item[1], reverse = True)\n",
        "                for i in range(len(counts)):\n",
        "                    if counts[i][0] == cmm_ans:\n",
        "                        counts[0], counts[i] = counts[i], counts[0]\n",
        "                        break\n",
        "                mx = round(density[cmm_ans][1] / 10)\n",
        "                for i in range(len(counts)):\n",
        "                    if len(pool) == mx:\n",
        "                        break\n",
        "                    for k in range(min(round(counts[i][1] / all * 10), mx - len(pool))):\n",
        "                        pool.append(counts[i][0])\n",
        "                pools[cmm_ans] = (cmm_category, pool)\n",
        "\n",
        "            pools = {k: v for k, v in sorted(pools.items(), key = lambda item: density[item[0]][0], reverse = True)}\n",
        "            for cmm in pools:\n",
        "                start = 1\n",
        "\n",
        "                if pools[cmm][0] == 'noname':\n",
        "                    while piece[-start] != cmm:\n",
        "                        start += 1\n",
        "                else:\n",
        "                    while piece[-start] not in categories[pools[cmm][0]]:\n",
        "                        start += 1\n",
        "                mark = period = density[cmm][0] # Опираемся на частоту использования категории\n",
        "                pool_i = 0\n",
        "                pool = pools[cmm][1]\n",
        "                while(mark < start + 10 and pool_i < len(pool)):\n",
        "                    if mark > start and answer[mark - start] == 0:\n",
        "                        answer[mark - start] = pool[pool_i]\n",
        "                        pool_i += 1\n",
        "                        mark += period\n",
        "                    else:\n",
        "                        mark += 1\n",
        "\n",
        "                if pool_i < len(pool):\n",
        "                    for i in range(10):\n",
        "                        if pool_i == len(pool):\n",
        "                            break\n",
        "                        if answer[i] == 0:\n",
        "                            answer[i] = pool[pool_i]\n",
        "                            pool_i += 1\n",
        "\n",
        "            ans_i = 0\n",
        "            for i in range(10):\n",
        "                if answer[i] == 0:\n",
        "                    answer[i] = piece[-ans_i]\n",
        "                    ans_i += 1\n",
        "\n",
        "            return answer\n",
        "\n",
        "        submission_data = []\n",
        "        for client in data:\n",
        "            submission_data.append(make_answer(client))\n",
        "\n",
        "        return submission_data\n",
        "\n",
        "model = Idea6()\n",
        "submission = model.predict(df_test['Data'])\n",
        "make_csv(submission, 'Idea6')\n",
        "mapk(df_train['Target'], model.predict(df_train['Data']))"
      ]
    },
    {
      "cell_type": "code",
      "execution_count": 48,
      "id": "UYWz9p5c5LxP",
      "metadata": {
        "colab": {
          "base_uri": "https://localhost:8080/"
        },
        "id": "UYWz9p5c5LxP",
        "outputId": "1aad1a25-ccfd-448b-b74c-edd521c77559"
      },
      "outputs": [
        {
          "data": {
            "text/plain": [
              "0.23493421602016792"
            ]
          },
          "execution_count": 48,
          "metadata": {},
          "output_type": "execute_result"
        }
      ],
      "source": [
        "class Idea7:\n",
        "    def predict(self, data: pd.DataFrame) -> list:\n",
        "        def make_answer(client_data: list) -> list:\n",
        "            lenght = len(client_data)\n",
        "            piece = client_data if lenght < 100 else client_data[-100:]\n",
        "            indexes = {} # Индексы cmm кодов в последнем периоде транзакций\n",
        "            for i, cmm in enumerate(piece):\n",
        "                if cmm not in indexes:\n",
        "                    indexes[cmm] = []\n",
        "                indexes[cmm].append(i)\n",
        "\n",
        "            density = {} # \"Плотность cmm кода\"\n",
        "            size_factor = len(piece) / 100 # Для компенсации размера маленьких векторов\n",
        "            indexes = {k: v for k, v in sorted(indexes.items(), key = lambda item: len(item[1]), reverse = True)}\n",
        "            for key in indexes:\n",
        "                vec = indexes[key]\n",
        "                distance = 0\n",
        "                for i in range(1, len(vec)):\n",
        "                    distance += vec[i] - vec[i - 1]\n",
        "                distance /= len(vec)\n",
        "                density[key] = (round(distance), round(len(vec) / size_factor))\n",
        "            answer = [0 for i in range(10)]\n",
        "            for cmm_ans in density.keys(): # не больше 10\n",
        "                start = 1\n",
        "                while piece[-start] != cmm_ans:\n",
        "                    start += 1\n",
        "\n",
        "                period = density[cmm_ans][0] # Опираемся на частоту использования категории\n",
        "                mark = period\n",
        "                pool_i = 0\n",
        "                pool = round(density[cmm_ans][1] / 10)\n",
        "                while(mark < start + 10 and pool_i < pool):\n",
        "                    if mark > start and answer[mark - start] == 0:\n",
        "                        answer[mark - start] = cmm_ans\n",
        "                        pool_i += 1\n",
        "                        mark += period\n",
        "                    else:\n",
        "                        mark += 1\n",
        "\n",
        "                if pool_i < pool:\n",
        "                    for i in range(10):\n",
        "                        if pool_i == pool:\n",
        "                            break\n",
        "                        if answer[i] == 0:\n",
        "                            answer[i] = cmm_ans\n",
        "                            pool_i += 1\n",
        "            ans_i = 0\n",
        "            for i in range(10):\n",
        "                if answer[i] == 0:\n",
        "                    answer[i] = piece[-ans_i]\n",
        "                    ans_i += 1\n",
        "\n",
        "            return answer\n",
        "\n",
        "        submission_data = []\n",
        "        for client in data:\n",
        "            submission_data.append(make_answer(client))\n",
        "\n",
        "        return submission_data\n",
        "\n",
        "model = Idea7()\n",
        "submission = model.predict(df_test['Data'])\n",
        "make_csv(submission, 'Idea7')\n",
        "mapk(df_train['Target'], model.predict(df_train['Data']))"
      ]
    },
    {
      "cell_type": "markdown",
      "id": "f879ba4c",
      "metadata": {
        "id": "f879ba4c",
        "papermill": {
          "duration": 0.020398,
          "end_time": "2022-04-29T11:28:40.968489",
          "exception": false,
          "start_time": "2022-04-29T11:28:40.948091",
          "status": "completed"
        },
        "tags": []
      },
      "source": [
        "## Baseline 1: топ10 MCC-кодов из train-части"
      ]
    },
    {
      "cell_type": "markdown",
      "id": "8a4e538b",
      "metadata": {
        "id": "8a4e538b",
        "papermill": {
          "duration": 0.019762,
          "end_time": "2022-04-29T11:28:41.008090",
          "exception": false,
          "start_time": "2022-04-29T11:28:40.988328",
          "status": "completed"
        },
        "tags": []
      },
      "source": [
        "MCC-код и соответствующее количество вхождений в train-часть"
      ]
    },
    {
      "cell_type": "code",
      "execution_count": 33,
      "id": "a9ae503f",
      "metadata": {
        "colab": {
          "base_uri": "https://localhost:8080/"
        },
        "execution": {
          "iopub.execute_input": "2022-04-29T11:28:41.680458Z",
          "iopub.status.busy": "2022-04-29T11:28:41.680013Z",
          "iopub.status.idle": "2022-04-29T11:28:42.039625Z",
          "shell.execute_reply": "2022-04-29T11:28:42.038882Z"
        },
        "id": "a9ae503f",
        "outputId": "c1db7e1b-5751-4073-d530-b3f5dc288c1b",
        "papermill": {
          "duration": 0.383362,
          "end_time": "2022-04-29T11:28:42.041159",
          "exception": false,
          "start_time": "2022-04-29T11:28:41.657797",
          "status": "completed"
        },
        "tags": []
      },
      "outputs": [
        {
          "data": {
            "text/plain": [
              "0.28712452519753817"
            ]
          },
          "execution_count": 33,
          "metadata": {},
          "output_type": "execute_result"
        }
      ],
      "source": [
        "mapk(df_train['Target'], [top10_codes.index]*len(df_train))"
      ]
    },
    {
      "cell_type": "markdown",
      "id": "7e6105ff",
      "metadata": {
        "id": "7e6105ff",
        "papermill": {
          "duration": 0.021358,
          "end_time": "2022-04-29T11:28:42.084240",
          "exception": false,
          "start_time": "2022-04-29T11:28:42.062882",
          "status": "completed"
        },
        "tags": []
      },
      "source": [
        "## Baseline 2: cамые популярные транзакции пользователя."
      ]
    },
    {
      "cell_type": "markdown",
      "id": "8c720107",
      "metadata": {
        "id": "8c720107",
        "papermill": {
          "duration": 0.02165,
          "end_time": "2022-04-29T11:28:42.128068",
          "exception": false,
          "start_time": "2022-04-29T11:28:42.106418",
          "status": "completed"
        },
        "tags": []
      },
      "source": [
        "**Если таких менее 10, то замешиваются топ10 популярных из всей выборки.**"
      ]
    },
    {
      "cell_type": "code",
      "execution_count": 34,
      "id": "ed657fac",
      "metadata": {
        "execution": {
          "iopub.execute_input": "2022-04-29T11:28:42.173136Z",
          "iopub.status.busy": "2022-04-29T11:28:42.172738Z",
          "iopub.status.idle": "2022-04-29T11:28:42.177976Z",
          "shell.execute_reply": "2022-04-29T11:28:42.177240Z"
        },
        "id": "ed657fac",
        "papermill": {
          "duration": 0.029381,
          "end_time": "2022-04-29T11:28:42.179338",
          "exception": false,
          "start_time": "2022-04-29T11:28:42.149957",
          "status": "completed"
        },
        "tags": []
      },
      "outputs": [],
      "source": [
        "def get_top_codes(transactions, top_n=10, drop_from=5):\n",
        "    transactions_stats = sorted(\n",
        "        Counter(transactions).items(),\n",
        "        key=lambda x: x[1],\n",
        "        reverse=True\n",
        "    )[:top_n]\n",
        "\n",
        "\n",
        "    top_codes = [mcc_code for (mcc_code, count) in transactions_stats if count >= drop_from]\n",
        "    top_codes += list(top10_codes.index)\n",
        "\n",
        "    return top_codes[:10]"
      ]
    },
    {
      "cell_type": "code",
      "execution_count": 35,
      "id": "c96e8d8f",
      "metadata": {
        "execution": {
          "iopub.execute_input": "2022-04-29T11:28:42.223219Z",
          "iopub.status.busy": "2022-04-29T11:28:42.223029Z",
          "iopub.status.idle": "2022-04-29T11:28:42.923037Z",
          "shell.execute_reply": "2022-04-29T11:28:42.922284Z"
        },
        "id": "c96e8d8f",
        "papermill": {
          "duration": 0.724305,
          "end_time": "2022-04-29T11:28:42.925185",
          "exception": false,
          "start_time": "2022-04-29T11:28:42.200880",
          "status": "completed"
        },
        "tags": []
      },
      "outputs": [],
      "source": [
        "df_train['pred_baseline_2'] = df_train['Data'].apply(get_top_codes)"
      ]
    },
    {
      "cell_type": "code",
      "execution_count": 36,
      "id": "78304bc0",
      "metadata": {
        "colab": {
          "base_uri": "https://localhost:8080/"
        },
        "execution": {
          "iopub.execute_input": "2022-04-29T11:28:42.992134Z",
          "iopub.status.busy": "2022-04-29T11:28:42.991887Z",
          "iopub.status.idle": "2022-04-29T11:28:43.057465Z",
          "shell.execute_reply": "2022-04-29T11:28:43.056633Z"
        },
        "id": "78304bc0",
        "outputId": "e6544936-658c-476d-f2af-39d4f8ee1a23",
        "papermill": {
          "duration": 0.101482,
          "end_time": "2022-04-29T11:28:43.059592",
          "exception": false,
          "start_time": "2022-04-29T11:28:42.958110",
          "status": "completed"
        },
        "tags": []
      },
      "outputs": [
        {
          "data": {
            "text/plain": [
              "0.32322282820896503"
            ]
          },
          "execution_count": 36,
          "metadata": {},
          "output_type": "execute_result"
        }
      ],
      "source": [
        "mapk(df_train['Target'], df_train['pred_baseline_2'])"
      ]
    }
  ],
  "metadata": {
    "colab": {
      "provenance": []
    },
    "kernelspec": {
      "display_name": "Python 3",
      "language": "python",
      "name": "python3"
    },
    "language_info": {
      "codemirror_mode": {
        "name": "ipython",
        "version": 3
      },
      "file_extension": ".py",
      "mimetype": "text/x-python",
      "name": "python",
      "nbconvert_exporter": "python",
      "pygments_lexer": "ipython3",
      "version": "3.7.12"
    },
    "papermill": {
      "default_parameters": {},
      "duration": 16.857377,
      "end_time": "2022-04-29T11:28:45.079962",
      "environment_variables": {},
      "exception": null,
      "input_path": "__notebook__.ipynb",
      "output_path": "__notebook__.ipynb",
      "parameters": {},
      "start_time": "2022-04-29T11:28:28.222585",
      "version": "2.3.4"
    }
  },
  "nbformat": 4,
  "nbformat_minor": 5
}
